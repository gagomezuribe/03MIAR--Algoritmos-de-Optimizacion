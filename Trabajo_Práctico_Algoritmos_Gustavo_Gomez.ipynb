{
  "nbformat": 4,
  "nbformat_minor": 0,
  "metadata": {
    "colab": {
      "provenance": [],
      "include_colab_link": true
    },
    "kernelspec": {
      "name": "python3",
      "display_name": "Python 3"
    }
  },
  "cells": [
    {
      "cell_type": "markdown",
      "metadata": {
        "id": "view-in-github",
        "colab_type": "text"
      },
      "source": [
        "<a href=\"https://colab.research.google.com/github/gagomezuribe/03MIAR--Algoritmos-de-Optimizacion/blob/main/Trabajo_Pr%C3%A1ctico_Algoritmos_Gustavo_Gomez.ipynb\" target=\"_parent\"><img src=\"https://colab.research.google.com/assets/colab-badge.svg\" alt=\"Open In Colab\"/></a>"
      ]
    },
    {
      "cell_type": "markdown",
      "metadata": {
        "id": "hVbXYX-RfPWh"
      },
      "source": [
        "# Algoritmos de optimización - Trabajo Práctico<br>\n",
        "Nombre y Apellidos: Gustavo Adolfo Gómez Uribe  <br>\n",
        "Url Github: https://github.com/gagomezuribe/03MIAR--Algoritmos-de-Optimizacion <br>\n",
        "Google Colab: https://colab.research.google.com/drive/1MqJ60qXGABhatzYjuYQCLQct116UNlJR?usp=sharing <br>\n",
        "Problema:\n",
        "**>1. Sesiones de doblaje <br>**\n",
        "\n",
        "**Descripción del problema:**\n",
        "Se precisa coordinar el doblaje de una película. Los actores del doblaje deben coincidir en las tomas en las que sus personajes aparecen juntos en las diferentes tomas. Los actores de doblaje cobran todos la misma cantidad por cada día que deben desplazarse hasta el estudio de grabación independientemente del número de tomas que se graben. No es posible grabar más de 6 tomas por día. El objetivo es planificar las sesiones por día de manera que el gasto por los\n",
        "servicios de los actores de doblaje sea el menor posible.\n",
        "\n",
        "Número de actores: 10; Número de tomas : 30; Actores/Tomas Cuadro en : https://bit.ly/36D8IuK 1=Participa en la toma\n",
        "\n",
        "\n",
        "\n",
        "\n",
        "\n",
        "\n",
        "\n",
        "\n",
        "                                        "
      ]
    },
    {
      "cell_type": "markdown",
      "source": [
        "#Modelo\n",
        "- ¿Como represento el espacio de soluciones?\n",
        "- ¿Cual es la función objetivo?\n",
        "- ¿Como implemento las restricciones?"
      ],
      "metadata": {
        "id": "Sbo9IqQtpaHZ"
      }
    },
    {
      "cell_type": "markdown",
      "source": [
        "**Espacio de soluciones:**\n",
        "Una solución es un plan de grabación donde se indiquen las tomas que deben ser grabadas en cada día, con una restricción de un máximo de 6 tomas por día. El modelo de datos escogido para representar una solución consiste en una tupla de 30 valores, donde el índice corresponde al número de la toma y el valor al día en que dicha toma va a ser grabada.\n",
        "\n",
        "Se debe cumplir las restricciones del problema para que una solución sea válida:\n",
        "el dia debe estar entre 1 y el máximo, es decir, tomas total/tomas diarias, para este caso, 30/6 = 5, día pertenece [1,5] y no deben programarse más de 6 tomas por dia."
      ],
      "metadata": {
        "id": "67p_vszBposu"
      }
    },
    {
      "cell_type": "markdown",
      "source": [
        "**Funcion objetivo:**\n",
        "La función objetivo es la suma de costos de todos los dobles para la totalidad de las tomas, según la matriz de programación de actores por toma, teniendo en cuenta la restricción de que se pueden hacer un máximo de seis tomas por día.\n",
        "\n",
        "El costo del día de doblaje por actor se consideró como una unidad. Dado que el tiempo de grabaciones es de 5 días y la cantidad de dobles es de 10, en una matriz en que todos los actores participaran en todas las tomas se tendría el costo máximo de 50. Con la matriz utilizada, el costo máximo es de 40 unidades de pago diarias. El objetivo del algoritmo es entonces minimizar esta función de costo, en unidades de pago diarias por doble."
      ],
      "metadata": {
        "id": "lKLEMJ7vX1ZG"
      }
    },
    {
      "cell_type": "markdown",
      "source": [
        "**Implementación de las restricciones:**\n",
        "Al crear una nueva solución debe validarse en el código que no existan mas de 6 tomas por día, es decir, que ningún día se repita más de 5 veces en la solución a analizar. La forma como se implementó en el algoritmo es partiendo de un vector modelo que cumpla las restricciones y asegurando que en cualquier cambio a la solución se conserve la condición de que la suma de tomas por día no excede el valor indicado (6)"
      ],
      "metadata": {
        "id": "lrHW8IfDZneu"
      }
    },
    {
      "cell_type": "markdown",
      "source": [
        "#Análisis\n",
        "**- ¿Que complejidad tiene el problema?. Orden de complejidad y Contabilizar el espacio de soluciones**"
      ],
      "metadata": {
        "id": "HZz52wOppp-U"
      }
    },
    {
      "cell_type": "markdown",
      "source": [
        "Una forma de modelar el problema es mediante una tupla por cada día de grabacion, donde en cada tupla están las tomas que se van a realizar. Como se ilustrará a continuación, el orden de complejidad es factorial O(n!).\n",
        "\n",
        "En el caso actual, al ser 30 tomas y un máximo de 6 tomas por día, se tendría que para el primer día hay 30!/(30-6)! es decir 30x29x28x27x26x25 = 4x10^8 combinaciones. En los siguientes días (dia 2 a día 5), siguiendo el mismo razonamiento, se tienen órdenes de 10^7, 10^7, 10^5 y 10^2 respectivamente, lo cual lleva a que el problema tiene un espacio de soluciones del orden de 10^29. Por esto no es viable usar métodos exactos y se debe acudir a metaheurísticas para buscar una solución razonablemente buena, sin saber si es la solución óptima."
      ],
      "metadata": {
        "id": "vkOdXX8VbCnn"
      }
    },
    {
      "cell_type": "markdown",
      "source": [
        "#Diseño\n",
        "- ¿Que técnica utilizo? ¿Por qué?"
      ],
      "metadata": {
        "id": "ixEJUwH_pv7M"
      }
    },
    {
      "cell_type": "markdown",
      "source": [
        "Dado que la función de costo es muy sensible a pequeños cambios y a que no se puede construir una solución por pasos, los algoritmos evolutivos y genéticos son la mejor alternativa, pues parten de un universo amplio de posibles soluciones que se van ajustando con cambios leves hasta encontrar la mejor solución. Adicionalmente estos algoritmos son apropiados para que si existen mínimos locales se comparen diferentes soluciones y se pueda escoger la mejor, sin caer en un único mínimo local.\n",
        "\n",
        "Para la búsqueda de la mejor solución se inició con un generador de soluciones aleatorias que cumplen la restricción de tener un máximo de 6 tomas por día.\n",
        "\n",
        "Posteriormente se desarrolló un modelo de búsqueda local, con un cambio de 2-opt entre vecinos, cuya solución no fue muy buena.\n",
        "\n",
        "Luego se desarrolló un algoritmo evolutivo partiendo de 500 soluciones con generaciones que eliminan 5 individuos en cada iteracion, hasta llegar a la mejor solución encontrada en 100 generaciones. Se encontraron mejores resultados con respecto al los algoritmos anteriores. Se hizo un análisis de sensibilidad a la probabilidad de la mutación, encontrando un mejor comportamiento con probabilidades bajas de mutación menores a 0.2\n",
        "\n",
        "Finalmente se realizó un modelo de algoritmo genético, con un universo de 100 parejas, cada una generando cuatro hijos, de los cuales se escogía en cada generación los 50% menores, y aleatoriamente se cruzaban en una nueva iteracion.\n",
        "\n"
      ],
      "metadata": {
        "id": "DXw5GVd1r9vY"
      }
    },
    {
      "cell_type": "code",
      "source": [
        "#Librerías requeridas\n",
        "import csv\n",
        "import random\n",
        "import numpy as np\n",
        "from math import ceil\n"
      ],
      "metadata": {
        "id": "FzD-GP0BuMLk"
      },
      "execution_count": 2,
      "outputs": []
    },
    {
      "cell_type": "code",
      "source": [
        "#Variables transversales, constantes y de entorno\n",
        "global c_dias, c_actores, tomasxdia, tomas, arrmodelo, modeloini, dias_grab\n",
        "c_actores,tomasxdia,ntomas = 10,6,30\n",
        "c_dias = ceil(ntomas/tomasxdia)\n",
        "\n",
        "#modelo básico de solucion donde se asigna un día de 1 a 5 a cada toma.\n",
        "#se requiere esta lógica para permitir funcionamiento con programaciones de diferentes días\n",
        "modeloini=[]\n",
        "for i in range(1,c_dias+1):\n",
        "  modeloini=modeloini+[i]*tomasxdia\n",
        "arrmodelo = np.array(modeloini,dtype='uint8') #array modelo base, en numpy, con 30 elementos, uno por cada toma, cuyo valor es el dia de dicha toma\n",
        "dias_grab = [x+1 for x in range(c_dias)] #lista de los días en que se pueden programar las grabaciones [1,2,3,4,5]"
      ],
      "metadata": {
        "id": "YMVe8Rs151CX"
      },
      "execution_count": 3,
      "outputs": []
    },
    {
      "cell_type": "code",
      "source": [
        "#Cargar el archivo de programación de tomas; el archivo contiene una primera columna del indice de las tomas y una última columna de totales. No tiene headers\n",
        "ruta=\"/content/Datos problema doblaje.csv\"\n",
        "lista=[]\n",
        "with open(ruta) as fichero:\n",
        "    data_reader = csv.reader(fichero, delimiter=',')\n",
        "    for linea in data_reader:\n",
        "        lista.append(linea)\n",
        "tomas= np.array(lista, dtype='uint8')\n",
        "print(tomas)"
      ],
      "metadata": {
        "id": "ZdKPjB9gp2BA",
        "colab": {
          "base_uri": "https://localhost:8080/",
          "height": 0
        },
        "outputId": "f6fd84a4-271b-4e5a-d241-79d9a8e15694"
      },
      "execution_count": 4,
      "outputs": [
        {
          "output_type": "stream",
          "name": "stdout",
          "text": [
            "[[ 1  1  1  1  1  1  0  0  0  0  0  5]\n",
            " [ 2  0  0  1  1  1  0  0  0  0  0  3]\n",
            " [ 3  0  1  0  0  1  0  1  0  0  0  3]\n",
            " [ 4  1  1  0  0  0  0  1  1  0  0  4]\n",
            " [ 5  0  1  0  1  0  0  0  1  0  0  3]\n",
            " [ 6  1  1  0  1  1  0  0  0  0  0  4]\n",
            " [ 7  1  1  0  1  1  0  0  0  0  0  4]\n",
            " [ 8  1  1  0  0  0  1  0  0  0  0  3]\n",
            " [ 9  1  1  0  1  0  0  0  0  0  0  3]\n",
            " [10  1  1  0  0  0  1  0  0  1  0  4]\n",
            " [11  1  1  1  0  1  0  0  1  0  0  5]\n",
            " [12  1  1  1  1  0  1  0  0  0  0  5]\n",
            " [13  1  0  0  1  1  0  0  0  0  0  3]\n",
            " [14  1  0  1  0  0  1  0  0  0  0  3]\n",
            " [15  1  1  0  0  0  0  1  0  0  0  3]\n",
            " [16  0  0  0  1  0  0  0  0  0  1  2]\n",
            " [17  1  0  1  0  0  0  0  0  0  0  2]\n",
            " [18  0  0  1  0  0  1  0  0  0  0  2]\n",
            " [19  1  0  1  0  0  0  0  0  0  0  2]\n",
            " [20  1  0  1  1  1  0  0  0  0  0  4]\n",
            " [21  0  0  0  0  0  1  0  1  0  0  2]\n",
            " [22  1  1  1  1  0  0  0  0  0  0  4]\n",
            " [23  1  0  1  0  0  0  0  0  0  0  2]\n",
            " [24  0  0  1  0  0  1  0  0  0  0  2]\n",
            " [25  1  1  0  1  0  0  0  0  0  1  4]\n",
            " [26  1  0  1  0  1  0  0  0  1  0  4]\n",
            " [27  0  0  0  1  1  0  0  0  0  0  2]\n",
            " [28  1  0  0  1  0  0  0  0  0  0  2]\n",
            " [29  1  0  0  0  1  1  0  0  0  0  3]\n",
            " [30  1  0  0  1  0  0  0  0  0  0  2]]\n"
          ]
        }
      ]
    },
    {
      "cell_type": "code",
      "source": [
        "#Función para crear una solución aleatoria; recibe y devuelve ndarray\n",
        "def crear_solucion_rnd(sol_ini=arrmodelo):\n",
        "\n",
        "  random.shuffle(sol_ini)\n",
        "  return sol_ini\n",
        "\n",
        "print(crear_solucion_rnd())"
      ],
      "metadata": {
        "colab": {
          "base_uri": "https://localhost:8080/",
          "height": 0
        },
        "id": "7sVEiBuMyxwr",
        "outputId": "ca4dcc48-4b56-4c5b-89ae-babdff25b063"
      },
      "execution_count": 5,
      "outputs": [
        {
          "output_type": "stream",
          "name": "stdout",
          "text": [
            "[1 3 3 2 4 3 4 5 1 5 5 4 1 4 2 4 1 3 2 1 5 3 2 5 2 1 5 3 2 4]\n"
          ]
        }
      ]
    },
    {
      "cell_type": "code",
      "source": [
        "#Función para calcular el costo de una solución\n",
        "def costo(sol):  #parámetro es ndarray con la solución a la que se le calculará el costo\n",
        "  #Cálculo de la matriz de programación: días en que trabaja cada actor\n",
        "  matrizprog = np.zeros((30,11),dtype='uint8')\n",
        "  for i in range(1,11):\n",
        "   matrizprog[:,i-1] = np.multiply(sol,tomas[:,i])\n",
        "\n",
        "  #cálculo de vector de dias por actor:\n",
        "  dias_actor = np.zeros(10,dtype='uint8') #cada índice corresponde a un actor o doble. El valor es la cantidad de días que debe trabajar dicho doble [1-5]\n",
        "  for i in range(0,10):\n",
        "    dias_actor[i] = len(np.unique(matrizprog[:,i]))-1 #para cada actor se suman los días en que ha tenido que participar según la programación de tomas\n",
        "  return np.sum(dias_actor)\n"
      ],
      "metadata": {
        "id": "H2YNHpC92QiX"
      },
      "execution_count": 6,
      "outputs": []
    },
    {
      "cell_type": "code",
      "source": [
        "#BUSQUEDA ALEATORIA\n",
        "#cambia al azar la solución, hace iteraciones y escoge la mejor solución encontrada\n",
        "def busqueda_aleatoria():\n",
        "  costo_min = 100000   #se inicializa alto para que se ajuste en la primera iteración\n",
        "  mejor_sol=[]\n",
        "  for i in range(0,30):\n",
        "    sol_i = crear_solucion_rnd()\n",
        "    costo_i = costo(sol_i)\n",
        "    if costo_i <costo_min:\n",
        "      costo_min = costo_i\n",
        "      mejor_sol = sol_i.copy()\n",
        "  return mejor_sol,costo_min\n",
        "\n",
        "sol= busqueda_aleatoria()[0]\n",
        "print(\"Mejor solución: \", sol)\n",
        "print(\"Costo: \",costo(sol))\n"
      ],
      "metadata": {
        "colab": {
          "base_uri": "https://localhost:8080/",
          "height": 0
        },
        "id": "bgz0ZS2gOSlS",
        "outputId": "6dac0a07-0321-4423-abb5-00941c7e200a"
      },
      "execution_count": 103,
      "outputs": [
        {
          "output_type": "stream",
          "name": "stdout",
          "text": [
            "Mejor solución:  [3 2 5 5 3 3 3 4 4 4 3 1 2 4 2 5 4 1 1 3 1 2 5 1 2 2 1 5 4 5]\n",
            "Costo:  36\n"
          ]
        }
      ]
    },
    {
      "cell_type": "markdown",
      "source": [
        "# BUSQUEDA LOCAL"
      ],
      "metadata": {
        "id": "ij8UeIP5dPKM"
      }
    },
    {
      "cell_type": "code",
      "source": [
        "#BUSQUEDA LOCAL\n",
        "#Toma la mejor opción a partir de una búsqueda aleatoria y haciendo todos los cambios posibles 2-opt busca una mejor solución\n",
        "mejor_sol, costo_min = busqueda_aleatoria()\n",
        "print(\"Al iniciar búsqueda local:\")\n",
        "print(mejor_sol,costo_min)\n",
        "# print(mejor_sol,costo_min)\n",
        "for i in range(ntomas):\n",
        "  for j in range(i+1,ntomas):\n",
        "    temp = mejor_sol[i]\n",
        "    sol_i = mejor_sol\n",
        "    sol_i[i]=sol_i[j]\n",
        "    sol_i[j]=temp\n",
        "    costo_i = costo(sol_i)\n",
        "    if costo_i <costo_min:\n",
        "      costo_min = costo_i\n",
        "      mejor_sol = sol_i.copy()\n",
        "print(\"Luego de búsqueda local:\")\n",
        "print(mejor_sol,costo_min)"
      ],
      "metadata": {
        "colab": {
          "base_uri": "https://localhost:8080/",
          "height": 0
        },
        "id": "voObRQV6_m0Z",
        "outputId": "8b2f5037-d67d-4ff1-8d0f-5bdbec3556e2"
      },
      "execution_count": 110,
      "outputs": [
        {
          "output_type": "stream",
          "name": "stdout",
          "text": [
            "Al iniciar búsqueda local:\n",
            "[4 1 2 5 2 5 1 3 2 4 2 5 4 2 1 5 3 3 1 4 5 1 1 3 2 4 4 5 3 3] 37\n",
            "Luego de búsqueda local:\n",
            "[3 3 5 4 4 2 3 1 1 5 4 1 3 3 5 1 2 4 5 2 4 2 3 1 5 2 5 2 1 4] 33\n"
          ]
        }
      ]
    },
    {
      "cell_type": "markdown",
      "source": [
        "# ALGORITMO EVOLUTIVO"
      ],
      "metadata": {
        "id": "mO9bP-sTKCEV"
      }
    },
    {
      "cell_type": "code",
      "source": [
        "#ALGORITMO EVOLUTIVO\n",
        "#Se parte de un número de soluciones. A partir de ellas, se selecciona el 90% de los mejores individuos, se hace una mutacion aleatoria y se repite hasta finalizar\n",
        "#Estructura de datos: espacio de soluciones es un ndarray bidimensional, donde las filas son las soluciones y las columnas las tomas; los valores, el día de la toma\n",
        "\n",
        "#DESCARTAR: descartar las peores n soluciones. Para esto se crea una lista con el identificador de la solución  y su costo. luego se ordena\n",
        "def descarta_n_peores(espacio_soluciones,n):\n",
        "  ranking = np.zeros((np.shape(espacio_soluciones)[0],2))\n",
        "  for s in range(np.shape(espacio_soluciones)[0]):\n",
        "    ranking[s,0]=s\n",
        "    ranking[s,1]=costo(espacio_soluciones[s])\n",
        "\n",
        "  #Ordenar según el costo, para eliminar los de mayor costo:\n",
        "  indices_ordenados = np.argsort(ranking[:, 1])\n",
        "  espacio_soluciones = espacio_soluciones [indices_ordenados]\n",
        "\n",
        "  #Eliminar los de mayor costo, las últimas n filas:\n",
        "  espacio_soluciones = espacio_soluciones[:-n,:]\n",
        "  return espacio_soluciones\n",
        "\n",
        "\n",
        "#MUTAR: recorre todas las soluciones del espacio y con una probabilidad cambia al azar un elemento de la solución, manteniendo la restricción:\n",
        "def muta_el_resto(espacio_soluciones):\n",
        "  espacio_soluciones_output = np.copy(espacio_soluciones)\n",
        "  for s in range(np.shape(espacio_soluciones)[0]):\n",
        "    if random.random()>0.8:\n",
        "      ind_elemento_mutar = random.randint(0,ntomas-1) # se selecciona uno de los elementos (índice) de la solución (una toma)\n",
        "      dia_cambiar =espacio_soluciones[s][ind_elemento_mutar] # se obtiene el día planeado en la solución para grabar\n",
        "      dia_nuevo = random.sample([x for x in dias_grab  if x != dia_cambiar],1 )[0] #se selecciona al azar un día diferente\n",
        "      lista_posibles = np.where(espacio_soluciones[s]==dia_nuevo) #se obtiene de la solución en análisis las tomas planeadas para el día nuevo\n",
        "      ind_elemento_cambiar = np.random.choice(lista_posibles[0],size=1)\n",
        "      espacio_soluciones_output[s,ind_elemento_mutar] = dia_nuevo\n",
        "      espacio_soluciones_output[s,ind_elemento_cambiar] = dia_cambiar\n",
        "  return espacio_soluciones_output\n",
        "\n",
        "\n",
        "#PROGRAMA PRINCIPAL DEL ALGORITMO EVOLUTIVO (EA)\n",
        "#Inicializar la lista de soluciones:\n",
        "cant_individuos=501\n",
        "espacio_soluciones = np.zeros((cant_individuos,ntomas),dtype='uint8') # espacio_soluciones es un ndarray\n",
        "\n",
        "for j in range(cant_individuos):\n",
        " sol = crear_solucion_rnd()\n",
        " espacio_soluciones[j]=sol\n",
        "\n",
        "#Iteraciones mutación - evolución (generaciones) hasta dejar una solución final\n",
        "while np.shape(espacio_soluciones)[0]>5:\n",
        "  espacio_soluciones = descarta_n_peores(espacio_soluciones,5) #descarta 5 soluciones cada iteración\n",
        "  espacio_soluciones = muta_el_resto(espacio_soluciones) #con un función probabilística, cambia una de las tomas, en analogía con una mutación\n",
        "\n",
        "#presentar la mejor solución encontrada:\n",
        "for s in range(np.shape(espacio_soluciones)[0]):\n",
        "  print(espacio_soluciones[s])\n",
        "  print(costo(espacio_soluciones[s]))\n",
        "\n"
      ],
      "metadata": {
        "colab": {
          "base_uri": "https://localhost:8080/",
          "height": 0
        },
        "id": "aq08d_LcLLQ0",
        "outputId": "f5208887-06c4-418e-edbb-add02fa82c9e"
      },
      "execution_count": 90,
      "outputs": [
        {
          "output_type": "stream",
          "name": "stdout",
          "text": [
            "[1 5 4 4 4 1 4 5 3 2 2 5 2 5 3 3 1 2 1 2 5 1 5 3 3 2 4 1 3 4]\n",
            "34\n"
          ]
        }
      ]
    },
    {
      "cell_type": "markdown",
      "source": [
        "# ALGORITMO GENETICO"
      ],
      "metadata": {
        "id": "yzAGgb9tMp7e"
      }
    },
    {
      "cell_type": "code",
      "source": [
        "from os import pardir\n",
        "#ALGORITMO GENETICO\n",
        "#Se parte de un número de soluciones, organizadas en parejas, para efectos del cruce.\n",
        "#Cada pareja se cruza: se toma uno de los padres y se cambia un gen (día de programación) por el del otro progenitor\n",
        "#El hijo se ajusta a la restricción, asegurando que esta se cumpla\n",
        "#Se escoge el 50% mejor de los invididuos de la generación  (seleccion por \"torneo\")\n",
        "#Con toda la nueva generación se organizan nuevamente el mismo conjunto de parejas y se repite el cruce\n",
        "#Se itera el proceso un numero definido de iteraciones\n",
        "\n",
        "\n",
        "#Función de cruce para generar hijos de la primera pareja (provisional)\n",
        "def generar_hijos(padres,madres):\n",
        "  hijos = np.zeros((cant_hijos*cant_parejas,ntomas),dtype='uint8')\n",
        "  i=0\n",
        "\n",
        "  for p in range(cant_parejas):\n",
        "    for h in range(cant_hijos): #bucle para crear los n hijos en un ndarray n x tomas\n",
        "      gen = random.randint(0,ntomas-1) #escoger el gen a intercambiar\n",
        "      prog = random.randint(0,1) #escoger el progenitor base: padre o madre\n",
        "\n",
        "      if prog == 0:\n",
        "        progenitor_base = np.copy(padres[p])\n",
        "        gen_cambiado = madres[p,gen]\n",
        "      else:\n",
        "        progenitor_base = np.copy(madres[p])\n",
        "        gen_cambiado = padres[p,gen]\n",
        "      gen_original = progenitor_base[gen]\n",
        "      progenitor_base[gen] = gen_cambiado #sustituye un gen por el del otro progenitor\n",
        "\n",
        "      #ajustar el hijo para que cumpla la restricción:\n",
        "      indices_compensar = np.where(progenitor_base == gen_cambiado)\n",
        "      #de la lista de los dias programados en exceso se escoge uno al azar para compensar:\n",
        "      ix = int(np.random.choice(indices_compensar[0],1)[0] )\n",
        "      while ix == gen: #tomar otro de la lista si se escoge el índice del gen cambiado\n",
        "        ix = int(np.random.choice(indices_compensar[0],1)[0] ) #al azar entre los candidatos\n",
        "      progenitor_base[ix] = gen_original #mantener la restricción\n",
        "      hijos[i] = progenitor_base\n",
        "      i+=1\n",
        "\n",
        "  return hijos\n",
        "\n",
        "#Función para implementar el torneo: ordena la generación, escoge el 50% mejor\n",
        "def ordenar_generacion(nueva_generacion): #recibe un ndarray filas son la cantidad de hijos, columnas las tomas\n",
        "    ranking = np.zeros((np.shape(nueva_generacion)[0],2)) #ranking es un array temporal con el costo de cada solución\n",
        "    for s in range(np.shape(nueva_generacion)[0]): #calcula y almacena el costo de cada solución de la nueva generación\n",
        "      ranking[s,0]=s\n",
        "      ranking[s,1]=costo(nueva_generacion[s])\n",
        "    indices_ordenados = np.argsort(ranking[:, 1]) #ordenar según el costo\n",
        "    nueva_generacion = nueva_generacion [indices_ordenados]\n",
        "    nueva_generacion = nueva_generacion[:cant_parejas*2,:] #borra el 50% de individuos de la generacion con mayor costo\n",
        "    return(nueva_generacion)\n",
        "\n",
        "def nuevas_parejas(nueva_generacion):\n",
        "  i=0 #inicializa el contador para indexar las parejas\n",
        "  padres = np.zeros((np.shape(nueva_generacion)[0]//2,ntomas),dtype='uint8')\n",
        "  madres = np.zeros((np.shape(nueva_generacion)[0]//2,ntomas),dtype='uint8')\n",
        "\n",
        "  while np.shape(nueva_generacion)[0]>1:\n",
        "    par=random.sample(range(np.shape(nueva_generacion)[0]),2)\n",
        "    padres[i]=nueva_generacion[par[0]]\n",
        "    madres[i]=nueva_generacion[par[1]]\n",
        "    i+=1\n",
        "    nueva_generacion = np.delete(nueva_generacion,par,axis=0) #borra del espacio las dos solucioens que se convirtieron en progenitoras\n",
        "\n",
        "  return (padres,madres)\n",
        "\n",
        "\n",
        "#INICIO MODULO PRINCIPAL\n",
        "#GENERAR PAREJAS:\n",
        "#Estructura de datos: Padres un ndarray bidimensional, donde las filas son las soluciones y las columnas las tomas; los valores, el día de la toma\n",
        "\n",
        "cant_parejas = 100\n",
        "cant_hijos = 4\n",
        "padres = np.zeros((cant_parejas,ntomas),dtype='uint8')\n",
        "madres = np.zeros((cant_parejas,ntomas),dtype='uint8')\n",
        "hijos = np.zeros((cant_hijos,ntomas),dtype='uint8')\n",
        "nueva_generacion = np.zeros((cant_hijos*cant_parejas,ntomas),dtype='uint8')\n",
        "\n",
        "for j in range(cant_parejas):\n",
        " padres[j]=crear_solucion_rnd()\n",
        " madres[j]=crear_solucion_rnd()\n",
        "\n",
        "#Bucle para barrer n generaciones\n",
        "for g in range(100):\n",
        "    #Bucle para generar hijos de c/u de las parejas:\n",
        "    nueva_generacion=generar_hijos(padres,madres) #la funcion devuelve un ndarray de filas= cant_parejas x cant_hijos por pareja\n",
        "    nueva_generacion = ordenar_generacion(nueva_generacion) #ordena la generación según el costo, escoge los 50 mejores; retorna el nuevo espacio\n",
        "    padres,madres = nuevas_parejas(nueva_generacion) #y prepara padres y madres\n",
        "\n",
        "#Escoger la mejor_solucion de la ultima generacion:\n",
        "costo_min=10000\n",
        "for sol in nueva_generacion:\n",
        " if costo(sol)<costo_min:\n",
        "  mejor_sol = sol\n",
        "  costo_min = costo(sol)\n",
        "\n",
        "print(\"Mejor solución encontrada: \",mejor_sol)\n",
        "print(\"Costo de la mejor solución: \",costo_min)"
      ],
      "metadata": {
        "colab": {
          "base_uri": "https://localhost:8080/",
          "height": 0
        },
        "id": "KFR33U8SMvOF",
        "outputId": "6dfac148-75ae-41e5-e183-cb6dd0080310"
      },
      "execution_count": 85,
      "outputs": [
        {
          "output_type": "stream",
          "name": "stdout",
          "text": [
            "Mejor solución encontrada:  [5 5 3 3 3 3 3 1 2 1 1 5 3 4 2 2 4 4 4 5 1 5 4 4 2 1 5 2 1 2]\n",
            "Costo de la mejor solución:  27\n"
          ]
        }
      ]
    },
    {
      "cell_type": "markdown",
      "source": [
        "# CONCLUSION"
      ],
      "metadata": {
        "id": "jyIZ67uYg0pA"
      }
    },
    {
      "cell_type": "markdown",
      "source": [
        "En síntesis, se puede apreciar que la escogencia de la metaheuristica es de vital importancia para encontrar buenas soluciones. A pesar de que en este problema el rango de diferencias de costo es pequeño, se pudieron notar importantes diferencias entre los resultados conseguidos con las diferentes alternativas analizadas.\n",
        "\n",
        "\n",
        "La búsqueda aleatoria no da resultados muy buenos. Se obtuvieron valores entre 35 y 40 unidades diarias de salario\n",
        "\n",
        "\n",
        "La búsqueda local y el algoritmo evolutivo tuvieron mejores resultados, siendo el mejor valor en diferentes ejecuciones 33 unidades diarias de salario\n",
        "\n",
        "\n",
        "La mejor heuristica para este problema, tal como se indicó en la parte de análisis y escogencia del modelo, es el algoritmo genético, pues se distribuyen las soluciones en diferentes partes del espacio de soluciones y se optimiza con gradualidad de generación en generacion mediante los cruces y elitismo, hasta encontrar una buena solución. Los parámetros utilizados para lograr un balance entre tiempo de ejecución y calidad del resultado fueron 100 parejas, que generan 4 hijos cada una, y que iteran por 100 generaciones, con un tiempo de 10 segundos y un resultado de costo 27, mucho mejor que el que se obtuvo con los demás métodos."
      ],
      "metadata": {
        "id": "2vCFcq5rg4Ac"
      }
    }
  ]
}