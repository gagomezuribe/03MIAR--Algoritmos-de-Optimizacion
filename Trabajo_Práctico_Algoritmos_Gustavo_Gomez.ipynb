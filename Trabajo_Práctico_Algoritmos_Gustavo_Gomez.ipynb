{
  "nbformat": 4,
  "nbformat_minor": 0,
  "metadata": {
    "colab": {
      "provenance": [],
      "include_colab_link": true
    },
    "kernelspec": {
      "name": "python3",
      "display_name": "Python 3"
    }
  },
  "cells": [
    {
      "cell_type": "markdown",
      "metadata": {
        "id": "view-in-github",
        "colab_type": "text"
      },
      "source": [
        "<a href=\"https://colab.research.google.com/github/gagomezuribe/03MIAR--Algoritmos-de-Optimizacion/blob/main/Trabajo_Pr%C3%A1ctico_Algoritmos_Gustavo_Gomez.ipynb\" target=\"_parent\"><img src=\"https://colab.research.google.com/assets/colab-badge.svg\" alt=\"Open In Colab\"/></a>"
      ]
    },
    {
      "cell_type": "markdown",
      "metadata": {
        "id": "hVbXYX-RfPWh"
      },
      "source": [
        "# Algoritmos de optimización - Trabajo Práctico<br>\n",
        "Nombre y Apellidos: Gustavo Adolfo Gómez Uribe  <br>\n",
        "Url: https://github.com/.../03MAIR---Algoritmos-de-Optimizacion---/tree/master/TrabajoPractico<br>\n",
        "Google Colab: https://colab.research.google.com/drive/xxxxxxxxxxxxxxxx <br>\n",
        "Problema:\n",
        "**>1. Sesiones de doblaje <br>**\n",
        "\n",
        "**Descripción del problema:**\n",
        "Se precisa coordinar el doblaje de una película. Los actores del doblaje deben coincidir en las tomas en las que sus personajes aparecen juntos en las diferentes tomas. Los actores de doblaje cobran todos la misma cantidad por cada día que deben desplazarse hasta el estudio de grabación independientemente del número de tomas que se graben. No es posible grabar más de 6 tomas por día. El objetivo es planificar las sesiones por día de manera que el gasto por los\n",
        "servicios de los actores de doblaje sea el menor posible.\n",
        "\n",
        "Número de actores: 10; Número de tomas : 30; Actores/Tomas Cuadro en : https://bit.ly/36D8IuK 1=Participa en la toma\n",
        "\n",
        "\n",
        "\n",
        "\n",
        "\n",
        "\n",
        "\n",
        "\n",
        "                                        "
      ]
    },
    {
      "cell_type": "markdown",
      "source": [
        "#Modelo\n",
        "- ¿Como represento el espacio de soluciones?\n",
        "- ¿Cual es la función objetivo?\n",
        "- ¿Como implemento las restricciones?"
      ],
      "metadata": {
        "id": "Sbo9IqQtpaHZ"
      }
    },
    {
      "cell_type": "markdown",
      "source": [
        "**Espacio de soluciones:**\n",
        "Puede ser representado como un vector de 30 elementos, donde el índice corresponde a la toma y el valor al día en que se debe realizar dicha toma.\n",
        "\n",
        "Se debe cumplir las restricciones del problema para que una solución sea válida:\n",
        "1: el dia debe estar entre 1 y el máximo, es decir, tomas total/tomas diarias, para este caso, 30/6 = 5, día pertenece [1,5]"
      ],
      "metadata": {
        "id": "67p_vszBposu"
      }
    },
    {
      "cell_type": "markdown",
      "source": [
        "**Funcion objetivo:**\n",
        "Se puede usar una matriz de apoyo de tantas columnas como actores y filas como tomas y el valor es el dia en que un actor hace la toma.\n",
        "\n",
        "Luego se hace una matriz de la participación de los actores por día (para una o varias tomas) y el totalizado de estas columnas es la cantidad de actores por día, lo cual al sumarse por todos los dias sería la función objetivo a minimizar (modelo en hoja de cálculo)\n",
        "\n",
        "https://docs.google.com/spreadsheets/d/124dato8bOGx0mvLeA90dbDtS0EiqvMm1zZ0rViwl2AY/edit?usp=sharing\n",
        "\n",
        "\n"
      ],
      "metadata": {
        "id": "lKLEMJ7vX1ZG"
      }
    },
    {
      "cell_type": "markdown",
      "source": [
        "**Implementación de las restricciones:**\n",
        "Al crear una nueva solución debe validarse en el código que no existan mas de 6 tomas por día, es decir, que ningún día se repita más de 5 veces en la solución a analizar"
      ],
      "metadata": {
        "id": "lrHW8IfDZneu"
      }
    },
    {
      "cell_type": "code",
      "metadata": {
        "id": "AiskKkzZfy4e"
      },
      "source": [
        "#Respuesta\n"
      ],
      "execution_count": null,
      "outputs": []
    },
    {
      "cell_type": "markdown",
      "source": [
        "#Análisis\n",
        "- ¿Que complejidad tiene el problema?. Orden de complejidad y Contabilizar el espacio de soluciones"
      ],
      "metadata": {
        "id": "HZz52wOppp-U"
      }
    },
    {
      "cell_type": "markdown",
      "source": [
        "En ausencia de restricciones la complejidad sería 5^30, es decir el orden es de complejidad es exponencial.\n",
        "El problema es de tipo NP complejo."
      ],
      "metadata": {
        "id": "vkOdXX8VbCnn"
      }
    },
    {
      "cell_type": "code",
      "source": [
        "#Respuesta\n"
      ],
      "metadata": {
        "id": "CZ-5BmpspttV"
      },
      "execution_count": null,
      "outputs": []
    },
    {
      "cell_type": "markdown",
      "source": [
        "#Diseño\n",
        "- ¿Que técnica utilizo? ¿Por qué?"
      ],
      "metadata": {
        "id": "ixEJUwH_pv7M"
      }
    },
    {
      "cell_type": "markdown",
      "source": [
        "Para preparar los modelos de datos y las funciones de costo iniciar por un modelo de búsqueda aleatoria, que si bien no ofrecerá una solucion óptima es el mas sencillo de implementar. Abajo está de hecho el código para este modelo, donde con 10000 iteraciones se encontro una solución de 33 salarios diarios para los dobles.\n",
        "\n",
        "La búsqueda local, puede ser una buena opción, para tener mas intensificación que diversificación\n"
      ],
      "metadata": {
        "id": "DXw5GVd1r9vY"
      }
    },
    {
      "cell_type": "code",
      "source": [
        "import csv\n",
        "import random\n",
        "import numpy as np\n",
        "from math import ceil\n"
      ],
      "metadata": {
        "id": "FzD-GP0BuMLk"
      },
      "execution_count": null,
      "outputs": []
    },
    {
      "cell_type": "code",
      "source": [
        "#Variables transversales, constantes y de entorno\n",
        "global c_dias, c_actores, tomasxdia, tomas, arrmodelo, modeloini\n",
        "c_actores,tomasxdia,tomas = 10,6,30\n",
        "c_dias = ceil(tomas/tomasxdia)\n",
        "#modelo básico de solucion donde se asigna un día de 1 a 5 a cada toma.\n",
        "#se requiere esta lógica para permitir funcionamiento con programaciones de diferentes días\n",
        "modeloini=[]\n",
        "for i in range(1,c_dias+1):\n",
        "  modeloini=modeloini+[i]*tomasxdia\n",
        "\n",
        "arrmodelo = np.array(modeloini,dtype='uint8')"
      ],
      "metadata": {
        "id": "YMVe8Rs151CX"
      },
      "execution_count": null,
      "outputs": []
    },
    {
      "cell_type": "code",
      "source": [
        "#Leer archivo de programación de tomas: tiene columna de indice de tomas y no tiene header:\n",
        "ruta=\"/content/Datos problema doblaje.csv\"\n",
        "lista=[]\n",
        "with open(ruta) as fichero:\n",
        "    data_reader = csv.reader(fichero, delimiter=',')\n",
        "    for linea in data_reader:\n",
        "        lista.append(linea)\n",
        "tomas= np.array(lista, dtype='uint8')"
      ],
      "metadata": {
        "id": "ZdKPjB9gp2BA"
      },
      "execution_count": null,
      "outputs": []
    },
    {
      "cell_type": "code",
      "source": [
        "#Función para crear una solución aleatoria\n",
        "def crear_solucion_rnd():\n",
        "  sol_random = arrmodelo\n",
        "  random.shuffle(sol_random)\n",
        "  return sol_random\n",
        "\n",
        "print(crear_solucion_rnd())"
      ],
      "metadata": {
        "colab": {
          "base_uri": "https://localhost:8080/"
        },
        "id": "7sVEiBuMyxwr",
        "outputId": "52c55d0e-5ba2-4ec0-b2a3-2723dfb43c60"
      },
      "execution_count": null,
      "outputs": [
        {
          "output_type": "stream",
          "name": "stdout",
          "text": [
            "[1 5 4 2 2 2 4 1 5 4 1 5 3 3 3 2 5 2 2 1 4 5 4 1 3 4 3 1 3 5]\n"
          ]
        }
      ]
    },
    {
      "cell_type": "code",
      "source": [
        "#Función para calcular el costo de una solución\n",
        "def costo(sol):  #parámetro es ndarray\n",
        "  #cálculo de la matriz de programación: días en que trabaja cada actor\n",
        "  matrizprog = np.zeros((30,11),dtype='uint8')\n",
        "  for i in range(1,11):\n",
        "   matrizprog[:,i-1] = np.multiply(sol,tomas[:,i])\n",
        "\n",
        "  #cálculo de vector de dias por actor:\n",
        "  dias_actor = np.zeros(10,dtype='uint8')\n",
        "  for i in range(0,10):\n",
        "    dias_actor[i] = len(np.unique(matrizprog[:,i]))-1\n",
        "  return np.sum(dias_actor)\n",
        "\n",
        "# sol = crear_solucion_rnd()\n",
        "sol = np.array([1, 3, 3, 1, 2, 4, 5, 5, 2, 5, 1, 2, 4, 5, 3, 3, 1, 3, 5, 3, 2, 4, 4, 2, 1, 5, 4, 1, 4, 2],dtype='uint8')\n",
        "costo(sol)\n"
      ],
      "metadata": {
        "colab": {
          "base_uri": "https://localhost:8080/"
        },
        "id": "H2YNHpC92QiX",
        "outputId": "dde0622e-dc29-4dfb-86da-262b8a273c41"
      },
      "execution_count": null,
      "outputs": [
        {
          "output_type": "execute_result",
          "data": {
            "text/plain": [
              "35"
            ]
          },
          "metadata": {},
          "execution_count": 97
        }
      ]
    },
    {
      "cell_type": "code",
      "source": [
        "#Búsqueda aleatoria\n",
        "def busqueda_aleatoria():\n",
        "  costo_min = 10000   #se inicializa alto para que se ajuste en la primera iteración\n",
        "\n",
        "  for i in range(0,10000):\n",
        "    sol_i = crear_solucion_rnd()\n",
        "    costo_i = costo(sol_i)\n",
        "    if costo_i <costo_min:\n",
        "      costo_min = costo_i\n",
        "      mejor_sol = sol_i\n",
        "  return mejor_sol,costo_min\n",
        "\n",
        "print(busqueda_aleatoria())\n"
      ],
      "metadata": {
        "colab": {
          "base_uri": "https://localhost:8080/"
        },
        "id": "bgz0ZS2gOSlS",
        "outputId": "38c20b44-3a80-4b00-d03e-0d208f7b63c8"
      },
      "execution_count": null,
      "outputs": [
        {
          "output_type": "stream",
          "name": "stdout",
          "text": [
            "(array([2, 5, 2, 5, 4, 3, 2, 1, 5, 4, 3, 1, 4, 5, 5, 1, 2, 2, 4, 1, 5, 3,\n",
            "       3, 1, 2, 4, 1, 4, 3, 3], dtype=uint8), 33)\n"
          ]
        }
      ]
    }
  ]
}