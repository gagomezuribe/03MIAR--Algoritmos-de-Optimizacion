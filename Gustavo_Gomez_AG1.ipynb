{
  "nbformat": 4,
  "nbformat_minor": 0,
  "metadata": {
    "colab": {
      "provenance": [],
      "authorship_tag": "ABX9TyNXOtTQusiwpqZN47h7aoG7",
      "include_colab_link": true
    },
    "kernelspec": {
      "name": "python3",
      "display_name": "Python 3"
    },
    "language_info": {
      "name": "python"
    }
  },
  "cells": [
    {
      "cell_type": "markdown",
      "metadata": {
        "id": "view-in-github",
        "colab_type": "text"
      },
      "source": [
        "<a href=\"https://colab.research.google.com/github/gagomezuribe/03MIAR--Algoritmos-de-Optimizacion/blob/main/Gustavo_Gomez_AG1.ipynb\" target=\"_parent\"><img src=\"https://colab.research.google.com/assets/colab-badge.svg\" alt=\"Open In Colab\"/></a>"
      ]
    },
    {
      "cell_type": "markdown",
      "source": [
        "# Actividad Guiada 1 de Algoritmos de Optimizacion\n",
        "**Gustavo Gómez:**\n",
        "\n",
        "https://colab.research.google.com/drive/1Xnrc_YCsNGHD46Yfo30neBMv0GThF412?usp=sharing\n",
        "\n",
        "https://github.com/gagomezuribe/03MIAR--Algoritmos-de-Optimizacion\n"
      ],
      "metadata": {
        "id": "Nn1gyV5vHqE1"
      }
    },
    {
      "cell_type": "markdown",
      "source": [
        "En las últimas dos celdas está el código de la parte adicional opcional, del cálculo de distancia entre número y el cálculo de distancia entre puntos"
      ],
      "metadata": {
        "id": "dXiGj8827_dl"
      }
    },
    {
      "cell_type": "code",
      "execution_count": null,
      "metadata": {
        "colab": {
          "base_uri": "https://localhost:8080/"
        },
        "id": "1IPrk3aOF3O_",
        "outputId": "8c87d20e-2583-4e21-9238-c0eb66270e11"
      },
      "outputs": [
        {
          "output_type": "stream",
          "name": "stdout",
          "text": [
            "Lleva la ficha desde 1 hasta 3\n",
            "Lleva la ficha desde 1 hasta 2\n",
            "Lleva la ficha desde 3 hasta 2\n",
            "Lleva la ficha desde 1 hasta 3\n",
            "Lleva la ficha desde 2 hasta 1\n",
            "Lleva la ficha desde 2 hasta 3\n",
            "Lleva la ficha desde 1 hasta 3\n",
            "Lleva la ficha desde 1 hasta 2\n",
            "Lleva la ficha desde 3 hasta 2\n",
            "Lleva la ficha desde 3 hasta 1\n",
            "Lleva la ficha desde 2 hasta 1\n",
            "Lleva la ficha desde 3 hasta 2\n",
            "Lleva la ficha desde 1 hasta 3\n",
            "Lleva la ficha desde 1 hasta 2\n",
            "Lleva la ficha desde 3 hasta 2\n",
            "Lleva la ficha desde 1 hasta 3\n",
            "Lleva la ficha desde 2 hasta 1\n",
            "Lleva la ficha desde 2 hasta 3\n",
            "Lleva la ficha desde 1 hasta 3\n",
            "Lleva la ficha desde 2 hasta 1\n",
            "Lleva la ficha desde 3 hasta 2\n",
            "Lleva la ficha desde 3 hasta 1\n",
            "Lleva la ficha desde 2 hasta 1\n",
            "Lleva la ficha desde 2 hasta 3\n",
            "Lleva la ficha desde 1 hasta 3\n",
            "Lleva la ficha desde 1 hasta 2\n",
            "Lleva la ficha desde 3 hasta 2\n",
            "Lleva la ficha desde 1 hasta 3\n",
            "Lleva la ficha desde 2 hasta 1\n",
            "Lleva la ficha desde 2 hasta 3\n",
            "Lleva la ficha desde 1 hasta 3\n"
          ]
        }
      ],
      "source": [
        "#Torres de Hanoi - Divide y venceras\n",
        "################################################################################\n",
        "\n",
        "\n",
        "################################################################\n",
        "def Torres_Hanoi(N, desde, hasta):\n",
        "  #N - Nº de fichas\n",
        "  #desde - torre inicial\n",
        "  #hasta - torre fina\n",
        "  if N==1 :\n",
        "    print(\"Lleva la ficha desde \" + str(desde) + \" hasta \" + str(hasta))\n",
        "\n",
        "  else:\n",
        "    Torres_Hanoi(N-1, desde, 6-desde-hasta)\n",
        "    print(\"Lleva la ficha desde \" + str(desde) + \" hasta \" + str(hasta))\n",
        "    Torres_Hanoi(N-1, 6-desde-hasta,  hasta)\n",
        "\n",
        "Torres_Hanoi(5, 1, 3)\n",
        "################################################################"
      ]
    },
    {
      "cell_type": "code",
      "source": [
        "#Cambio de monedas - Técnica voraz\n",
        "################################################################################\n",
        "SISTEMA = [25, 10, 5, 1]\n",
        "################################################################\n",
        "def cambio_monedas(CANTIDAD,SISTEMA):\n",
        "#....\n",
        "  SOLUCION = [0]*len(SISTEMA)\n",
        "  ValorAcumulado = 0\n",
        "\n",
        "  for i,valor in enumerate(SISTEMA):\n",
        "    monedas = (CANTIDAD-ValorAcumulado)//valor\n",
        "\n",
        "    SOLUCION[i] = monedas\n",
        "    ValorAcumulado = ValorAcumulado + monedas*valor\n",
        "\n",
        "    if CANTIDAD == ValorAcumulado:\n",
        "      return SOLUCION\n",
        "\n",
        "\n",
        "  print(\"No es posible encontrar solucion\")\n",
        "\n",
        "cambio_monedas(15,SISTEMA)\n",
        "\n",
        "\n",
        "################################################################"
      ],
      "metadata": {
        "colab": {
          "base_uri": "https://localhost:8080/"
        },
        "id": "OwEdyvhvGa_3",
        "outputId": "d1d4a9b5-8eb9-43ea-9d38-79565b489551"
      },
      "execution_count": null,
      "outputs": [
        {
          "output_type": "execute_result",
          "data": {
            "text/plain": [
              "[0, 1, 1, 0]"
            ]
          },
          "metadata": {},
          "execution_count": 5
        }
      ]
    },
    {
      "cell_type": "code",
      "source": [
        "#N Reinas - Vuelta Atrás()\n",
        "################################################################################\n",
        "\n",
        "#Verifica que en la solución parcial no hay amenzas entre reinas\n",
        "################################################################\n",
        "def es_prometedora(SOLUCION,etapa):\n",
        "################################################################\n",
        "  #print(SOLUCION)\n",
        "  #Si la solución tiene dos valores iguales no es valida => Dos reinas en la misma fila\n",
        "  for i in range(etapa+1):\n",
        "    #print(\"El valor \" + str(SOLUCION[i]) + \" está \" +  str(SOLUCION.count(SOLUCION[i])) + \" veces\")\n",
        "    if SOLUCION.count(SOLUCION[i]) > 1:\n",
        "      return False\n",
        "\n",
        "    #Verifica las diagonales\n",
        "    for j in range(i+1, etapa +1 ):\n",
        "      #print(\"Comprobando diagonal de \" + str(i) + \" y \" + str(j))\n",
        "      if abs(i-j) == abs(SOLUCION[i]-SOLUCION[j]) : return False\n",
        "  return True\n",
        "\n",
        "#Traduce la solución al tablero\n",
        "################################################################\n",
        "def escribe_solucion(S):\n",
        "################################################################\n",
        "  n = len(S)\n",
        "  for x in range(n):\n",
        "    print(\"\")\n",
        "    for i in range(n):\n",
        "      if S[i] == x+1:\n",
        "        print(\" X \" , end=\"\")\n",
        "      else:\n",
        "        print(\" - \", end=\"\")\n",
        "\n",
        "\n",
        "\n",
        "#Proceso principal de N-Reinas\n",
        "################################################################\n",
        "def reinas(N, solucion=[],etapa=0):\n",
        "################################################################\n",
        "### ....\n",
        "  if len(solucion) == 0:         # [0,0,0...]\n",
        "    solucion = [0 for i in range(N) ]\n",
        "\n",
        "  for i in range(1, N+1):\n",
        "    solucion[etapa] = i\n",
        "    if es_prometedora(solucion, etapa):\n",
        "      if etapa == N-1:\n",
        "        print(solucion)\n",
        "      else:\n",
        "        reinas(N, solucion, etapa+1)\n",
        "    else:\n",
        "      None\n",
        "\n",
        "  solucion[etapa] = 0\n",
        "\n",
        "reinas(8,solucion=[],etapa=0)"
      ],
      "metadata": {
        "colab": {
          "base_uri": "https://localhost:8080/"
        },
        "id": "Yy5RtDYyIfiD",
        "outputId": "f051578e-30b4-45df-8ff2-8b962b270083"
      },
      "execution_count": null,
      "outputs": [
        {
          "output_type": "stream",
          "name": "stdout",
          "text": [
            "[1, 5, 8, 6, 3, 7, 2, 4]\n",
            "[1, 6, 8, 3, 7, 4, 2, 5]\n",
            "[1, 7, 4, 6, 8, 2, 5, 3]\n",
            "[1, 7, 5, 8, 2, 4, 6, 3]\n",
            "[2, 4, 6, 8, 3, 1, 7, 5]\n",
            "[2, 5, 7, 1, 3, 8, 6, 4]\n",
            "[2, 5, 7, 4, 1, 8, 6, 3]\n",
            "[2, 6, 1, 7, 4, 8, 3, 5]\n",
            "[2, 6, 8, 3, 1, 4, 7, 5]\n",
            "[2, 7, 3, 6, 8, 5, 1, 4]\n",
            "[2, 7, 5, 8, 1, 4, 6, 3]\n",
            "[2, 8, 6, 1, 3, 5, 7, 4]\n",
            "[3, 1, 7, 5, 8, 2, 4, 6]\n",
            "[3, 5, 2, 8, 1, 7, 4, 6]\n",
            "[3, 5, 2, 8, 6, 4, 7, 1]\n",
            "[3, 5, 7, 1, 4, 2, 8, 6]\n",
            "[3, 5, 8, 4, 1, 7, 2, 6]\n",
            "[3, 6, 2, 5, 8, 1, 7, 4]\n",
            "[3, 6, 2, 7, 1, 4, 8, 5]\n",
            "[3, 6, 2, 7, 5, 1, 8, 4]\n",
            "[3, 6, 4, 1, 8, 5, 7, 2]\n",
            "[3, 6, 4, 2, 8, 5, 7, 1]\n",
            "[3, 6, 8, 1, 4, 7, 5, 2]\n",
            "[3, 6, 8, 1, 5, 7, 2, 4]\n",
            "[3, 6, 8, 2, 4, 1, 7, 5]\n",
            "[3, 7, 2, 8, 5, 1, 4, 6]\n",
            "[3, 7, 2, 8, 6, 4, 1, 5]\n",
            "[3, 8, 4, 7, 1, 6, 2, 5]\n",
            "[4, 1, 5, 8, 2, 7, 3, 6]\n",
            "[4, 1, 5, 8, 6, 3, 7, 2]\n",
            "[4, 2, 5, 8, 6, 1, 3, 7]\n",
            "[4, 2, 7, 3, 6, 8, 1, 5]\n",
            "[4, 2, 7, 3, 6, 8, 5, 1]\n",
            "[4, 2, 7, 5, 1, 8, 6, 3]\n",
            "[4, 2, 8, 5, 7, 1, 3, 6]\n",
            "[4, 2, 8, 6, 1, 3, 5, 7]\n",
            "[4, 6, 1, 5, 2, 8, 3, 7]\n",
            "[4, 6, 8, 2, 7, 1, 3, 5]\n",
            "[4, 6, 8, 3, 1, 7, 5, 2]\n",
            "[4, 7, 1, 8, 5, 2, 6, 3]\n",
            "[4, 7, 3, 8, 2, 5, 1, 6]\n",
            "[4, 7, 5, 2, 6, 1, 3, 8]\n",
            "[4, 7, 5, 3, 1, 6, 8, 2]\n",
            "[4, 8, 1, 3, 6, 2, 7, 5]\n",
            "[4, 8, 1, 5, 7, 2, 6, 3]\n",
            "[4, 8, 5, 3, 1, 7, 2, 6]\n",
            "[5, 1, 4, 6, 8, 2, 7, 3]\n",
            "[5, 1, 8, 4, 2, 7, 3, 6]\n",
            "[5, 1, 8, 6, 3, 7, 2, 4]\n",
            "[5, 2, 4, 6, 8, 3, 1, 7]\n",
            "[5, 2, 4, 7, 3, 8, 6, 1]\n",
            "[5, 2, 6, 1, 7, 4, 8, 3]\n",
            "[5, 2, 8, 1, 4, 7, 3, 6]\n",
            "[5, 3, 1, 6, 8, 2, 4, 7]\n",
            "[5, 3, 1, 7, 2, 8, 6, 4]\n",
            "[5, 3, 8, 4, 7, 1, 6, 2]\n",
            "[5, 7, 1, 3, 8, 6, 4, 2]\n",
            "[5, 7, 1, 4, 2, 8, 6, 3]\n",
            "[5, 7, 2, 4, 8, 1, 3, 6]\n",
            "[5, 7, 2, 6, 3, 1, 4, 8]\n",
            "[5, 7, 2, 6, 3, 1, 8, 4]\n",
            "[5, 7, 4, 1, 3, 8, 6, 2]\n",
            "[5, 8, 4, 1, 3, 6, 2, 7]\n",
            "[5, 8, 4, 1, 7, 2, 6, 3]\n",
            "[6, 1, 5, 2, 8, 3, 7, 4]\n",
            "[6, 2, 7, 1, 3, 5, 8, 4]\n",
            "[6, 2, 7, 1, 4, 8, 5, 3]\n",
            "[6, 3, 1, 7, 5, 8, 2, 4]\n",
            "[6, 3, 1, 8, 4, 2, 7, 5]\n",
            "[6, 3, 1, 8, 5, 2, 4, 7]\n",
            "[6, 3, 5, 7, 1, 4, 2, 8]\n",
            "[6, 3, 5, 8, 1, 4, 2, 7]\n",
            "[6, 3, 7, 2, 4, 8, 1, 5]\n",
            "[6, 3, 7, 2, 8, 5, 1, 4]\n",
            "[6, 3, 7, 4, 1, 8, 2, 5]\n",
            "[6, 4, 1, 5, 8, 2, 7, 3]\n",
            "[6, 4, 2, 8, 5, 7, 1, 3]\n",
            "[6, 4, 7, 1, 3, 5, 2, 8]\n",
            "[6, 4, 7, 1, 8, 2, 5, 3]\n",
            "[6, 8, 2, 4, 1, 7, 5, 3]\n",
            "[7, 1, 3, 8, 6, 4, 2, 5]\n",
            "[7, 2, 4, 1, 8, 5, 3, 6]\n",
            "[7, 2, 6, 3, 1, 4, 8, 5]\n",
            "[7, 3, 1, 6, 8, 5, 2, 4]\n",
            "[7, 3, 8, 2, 5, 1, 6, 4]\n",
            "[7, 4, 2, 5, 8, 1, 3, 6]\n",
            "[7, 4, 2, 8, 6, 1, 3, 5]\n",
            "[7, 5, 3, 1, 6, 8, 2, 4]\n",
            "[8, 2, 4, 1, 7, 5, 3, 6]\n",
            "[8, 2, 5, 3, 1, 7, 4, 6]\n",
            "[8, 3, 1, 6, 2, 5, 7, 4]\n",
            "[8, 4, 1, 3, 6, 2, 7, 5]\n"
          ]
        }
      ]
    },
    {
      "cell_type": "code",
      "source": [
        "escribe_solucion([1, 5, 8, 6, 3, 7, 2, 4])"
      ],
      "metadata": {
        "colab": {
          "base_uri": "https://localhost:8080/"
        },
        "id": "oCFJLbSZM37Q",
        "outputId": "a8b11ae8-ed52-4c70-dd19-347b5fc595d4"
      },
      "execution_count": null,
      "outputs": [
        {
          "output_type": "stream",
          "name": "stdout",
          "text": [
            "\n",
            " X  -  -  -  -  -  -  - \n",
            " -  -  -  -  -  -  X  - \n",
            " -  -  -  -  X  -  -  - \n",
            " -  -  -  -  -  -  -  X \n",
            " -  X  -  -  -  -  -  - \n",
            " -  -  -  X  -  -  -  - \n",
            " -  -  -  -  -  X  -  - \n",
            " -  -  X  -  -  -  -  - "
          ]
        }
      ]
    },
    {
      "cell_type": "code",
      "source": [
        "#Viaje por el rio - Programación dinámica\n",
        "################################################################################\n",
        "\n",
        "TARIFAS = [\n",
        "[0,5,4,3,999,999,999],\n",
        "[999,0,999,2,3,999,11],\n",
        "[999,999, 0,1,999,4,10],\n",
        "[999,999,999, 0,5,6,9],\n",
        "[999,999, 999,999,0,999,4],\n",
        "[999,999, 999,999,999,0,3],\n",
        "[999,999,999,999,999,999,0]\n",
        "]\n",
        "\n",
        "#999 se puede sustituir por float(\"inf\")\n",
        "\n",
        "\n",
        "#Calculo de la matriz de PRECIOS y RUTAS\n",
        "################################################################\n",
        "def Precios(TARIFAS):\n",
        "################################################################\n",
        "  #Total de Nodos\n",
        "  N = len(TARIFAS[0])\n",
        "\n",
        "  #Inicialización de la tabla de precios\n",
        "  PRECIOS = [ [9999]*N for i in [9999]*N]\n",
        "  RUTA = [ [\"\"]*N for i in [\"\"]*N]\n",
        "\n",
        "  for i in range(0,N-1):\n",
        "    RUTA[i][i] = i             #Para ir de i a i se \"pasa por i\"\n",
        "    PRECIOS[i][i] = 0          #Para ir de i a i se se paga 0\n",
        "    for j in range(i+1, N):\n",
        "      MIN = TARIFAS[i][j]\n",
        "      RUTA[i][j] = i\n",
        "\n",
        "      for k in range(i, j):\n",
        "        if PRECIOS[i][k] + TARIFAS[k][j] < MIN:\n",
        "            MIN = min(MIN, PRECIOS[i][k] + TARIFAS[k][j] )\n",
        "            RUTA[i][j] = k          #Anota que para ir de i a j hay que pasar por k\n",
        "        PRECIOS[i][j] = MIN\n",
        "\n",
        "  return PRECIOS,RUTA\n",
        "################################################################\n",
        "\n",
        "PRECIOS,RUTA = Precios(TARIFAS)\n",
        "#print(PRECIOS[0][6])\n",
        "\n",
        "print(\"PRECIOS\")\n",
        "for i in range(len(TARIFAS)):\n",
        "  print(PRECIOS[i])\n",
        "\n",
        "print(\"\\nRUTA\")\n",
        "for i in range(len(TARIFAS)):\n",
        "  print(RUTA[i])\n",
        "\n",
        "#Determinar la ruta con Recursividad\n",
        "def calcular_ruta(RUTA, desde, hasta):\n",
        "  if desde == hasta:\n",
        "    #print(\"Ir a :\" + str(desde))\n",
        "    return \"\"\n",
        "  else:\n",
        "    return str(calcular_ruta( RUTA, desde, RUTA[desde][hasta])) +  \\\n",
        "                ',' + \\\n",
        "                str(RUTA[desde][hasta] \\\n",
        "              )\n",
        "\n",
        "print(\"\\nLa ruta es:\")\n",
        "calcular_ruta(RUTA, 0,6)"
      ],
      "metadata": {
        "colab": {
          "base_uri": "https://localhost:8080/",
          "height": 365
        },
        "id": "ynarMpjOM8ch",
        "outputId": "1260aa9c-8899-4266-a5f9-3dfad6f51dae"
      },
      "execution_count": null,
      "outputs": [
        {
          "output_type": "stream",
          "name": "stdout",
          "text": [
            "PRECIOS\n",
            "[0, 5, 4, 3, 8, 8, 11]\n",
            "[9999, 0, 999, 2, 3, 8, 7]\n",
            "[9999, 9999, 0, 1, 6, 4, 7]\n",
            "[9999, 9999, 9999, 0, 5, 6, 9]\n",
            "[9999, 9999, 9999, 9999, 0, 999, 4]\n",
            "[9999, 9999, 9999, 9999, 9999, 0, 3]\n",
            "[9999, 9999, 9999, 9999, 9999, 9999, 9999]\n",
            "\n",
            "RUTA\n",
            "[0, 0, 0, 0, 1, 2, 5]\n",
            "['', 1, 1, 1, 1, 3, 4]\n",
            "['', '', 2, 2, 3, 2, 5]\n",
            "['', '', '', 3, 3, 3, 3]\n",
            "['', '', '', '', 4, 4, 4]\n",
            "['', '', '', '', '', 5, 5]\n",
            "['', '', '', '', '', '', '']\n",
            "\n",
            "La ruta es:\n"
          ]
        },
        {
          "output_type": "execute_result",
          "data": {
            "text/plain": [
              "',0,2,5'"
            ],
            "application/vnd.google.colaboratory.intrinsic+json": {
              "type": "string"
            }
          },
          "metadata": {},
          "execution_count": 8
        }
      ]
    },
    {
      "cell_type": "markdown",
      "source": [
        "# Adicional: distancia dos números y dos puntos:"
      ],
      "metadata": {
        "id": "4vwk7RM9ZqqQ"
      }
    },
    {
      "cell_type": "code",
      "source": [
        "#ADICIONAL: Distancia fuerza bruta dos números\n",
        "nums=[13,63,45,32,65,73,27]\n",
        "minimos,distmin,ops=[],float(\"inf\"),0\n",
        "for i in nums:\n",
        "  for j in nums[nums.index(i)+1:]:\n",
        "    ops +=1\n",
        "    if abs(i-j)<distmin:\n",
        "      distmin = abs(i-j)\n",
        "      minimos=[i,j]\n",
        "\n",
        "print(f\"minimos:{minimos}, operaciones: {ops}, distancia minima: {distmin}\")"
      ],
      "metadata": {
        "id": "ccZoUGipZgDS"
      },
      "execution_count": null,
      "outputs": []
    },
    {
      "cell_type": "markdown",
      "source": [
        "**Identificacion de los dos puntos más cercanos**"
      ],
      "metadata": {
        "id": "QSLAGVl-a9a6"
      }
    },
    {
      "cell_type": "code",
      "source": [
        "# Fuente: tomado de https://github.com/Tosha1409/Closest_pair_of_points/blob/master/shortest_distance2.py\n",
        "# Revisado, comentado y modificado\n",
        "\n",
        "# El orden de complejidad de este algoritmo realizado con la técnica \"Divide y venceras\" es O(n log n).\n",
        "\n",
        "import math\n",
        "\n",
        "#longitud entre dos puntos\n",
        "def dist_2p(a,b):\n",
        "\treturn (math.sqrt( ((a[0]-b[0])**2)+ ((a[1]-b[1])**2)) )\n",
        "\n",
        "#distancia menor de las mitades\n",
        "def menor_dist(l,p,q,m):\n",
        "\t#si la lista tiene dos puntos:\n",
        "\tif len(l)==2:\n",
        "\t\tdist=dist_2p(l[0],l[1])\n",
        "\t\tif dist<m:\n",
        "\t\t\tp,q=l[0],l[1]\n",
        "\t\t\tm=dist\n",
        "\t#si la lista tiene más de dos puntos, se halla la distancia entre todos los puntos y se compara con la menor\n",
        "\telse:\n",
        "\t\tfor x in range(0,len(l)-1):\n",
        "\t\t\tfor y in range (x+1, len(l)):\n",
        "\t\t\t\tif m>dist_2p(l[x],l[y]):\n",
        "\t\t\t\t\tm=dist_2p(l[x],l[y])\n",
        "\t\t\t\t\tp,q = l[x],l[y]\n",
        "\treturn p,q,m\n",
        "\n",
        "#obtener la banda del centro:\n",
        "def ptos_centro(a,xcoordinate,p,q,m):\n",
        "\t#inicializa una lista para los puntos de la banda del centro\n",
        "\tstrip = []\n",
        "\tright,left = xcoordinate+int(m), xcoordinate-int(m)\n",
        "\t#identificar los puntos a colocar en cada subconjunto mientras  que  a[x] no sea mayor que el borde derecho\n",
        "\tfor x in a:\n",
        "\t\tif x[0]>right: break\n",
        "\t\telif left<=x[0]<=right: strip.append(x)\n",
        "\t#ordentar los puntos de la banda del centro por su coordenada y\n",
        "\tstrip.sort(key=lambda x:x[1])\n",
        "\t#validar las distancias en la banda y compararlas con lamás corta. solamente es necesario comparar los 6 puntos más cercanos\n",
        "\tfor x in range (0,len(strip)):\n",
        "\t\tfor y in range (x+1, len(strip)):\n",
        "\t\t\tdist= dist_2p(strip[x],strip[y])\n",
        "\t\t\tif dist<m:\n",
        "\t\t\t\tp,q=strip[x],strip[y]\n",
        "\t\t\t\tm=dist\n",
        "\treturn (p,q,m)\n",
        "\n",
        "\n",
        "#Buscar la menor distancia: lista de puntos lista, p, q: puntos con la distancia más corta; m= menor distancia. RECURSIVO\n",
        "def buscar_menor(lista,p,q,m):\n",
        "\tl=len(lista) #almacenar el largo de la lista de entrada\n",
        "\tif l<=(3): return (menor_dist(lista,p,q,m)) #para tamaño de lista <=3, se calcula con fuerza bruta:\n",
        "\t#punto medio de la lista, x; divide la lista en la parte izquierda y la derecha:\n",
        "\tmidl=l//2\n",
        "\tmidx=lista[midl][0]\n",
        "\tIzq=lista[:midl]\n",
        "\tDer=lista[midl:]\n",
        "\n",
        "\t#identificar puntos y menor dist en las partes izq, derecha y en la banda del centro:\n",
        "\tp,q,m=buscar_menor(Izq,p,q,m)\n",
        "\tp,q,m=buscar_menor(Der,p,q,m)\n",
        "\tp,q,m=ptos_centro(lista,midx,p,q,m)\n",
        "\n",
        "\t#regresa los puntos y la distancia entre ellos:\n",
        "\treturn (p,q,m)\n",
        "\n",
        "# **********************************************************************************************************************************\n",
        "#Programa principal\n",
        "puntos = [(737, -912), (-903, 156), (693, 817), (418, -676), (-266, -531), (-179, -874), (-916, -332), (-379, 757), (-7, 183), \\\n",
        "          (-126, 483), (150, -397), (-277, -522), (955, 960), (906, -576), (-960, 710), (37, -12), (-785, -988), (875, 311), \\\n",
        "          (-991, 262), (880, 978), (-346, 528), (-258, -852), (-41, -124), (806, 901), (-189, -707), (393, -95), (905, -461), \\\n",
        "          (127, -367), (-236, -204), (-527, 538), (-519, 552), (259, 330), (506, -730), (818, 821), (337, 283), (856, -879), \\\n",
        "          (-511, 907), (-450, -145), (960, -344), (237, 338), (-38, -236), (-142, -238), (-95, 941), (-920, 764), (-464, 506), \\\n",
        "          (-506, 636), (-153, 318), (-537, 826), (322, -616), (134, 561), (-13, 49), (-633, 179), (273, 289), (559, -67), \\\n",
        "          (825, -477), (220, 830), (595, 736), (-329, 783), (447, 428), (451, 473), (929, 4), (281, -1000), (-695, 714), \\\n",
        "          (-272, 15), (353, -92), (718, 3), (-697, -320), (-308, 304), (-46, -21), (464, -456), (395, -240), (-563, 569), \\\n",
        "          (-538, -288), (-21, -836), (-961, -88), (-355, -211), (171, 835), (859, -420), (-300, -252), (178, -751), (385, 254), \\\n",
        "          (-808, -114), (-895, -453), (-574, 167), (330, -750), (-496, -386), (-17, -416), (-756, -195), (832, 36), (-566, 123), \\\n",
        "          (294, -449), (-366, 754), (431, 565), (9, -29), (-398, -214), (248, -236), (669, -700), (-794, -181), (-391, -855),\\\n",
        "          (-45, -775), (391, -176), (694, -205), (569, 704), (-348, -110), (-669, 343), (931, -642), (226, 393), (223, -667), \\\n",
        "          (763, 727), (739, -901), (-390, 771), (660, 393), (620, -71), (167, -624), (-325, 697), (584, 90), (-751, -574), \\\n",
        "          (-73, -569), (936, -640), (-179, 598), (-681, 566), (-511, 520), (-258, -331), (13, 930), (656, -995), (907, -377), \\\n",
        "          (634, -691), (89, -982), (-408, -816), (-544, 168), (804, -599), (-544, -401), (108, -30), (217, -166), (298, 405), \\\n",
        "          (-773, -102), (-853, -370), (15, 629), (83, 944), (441, -484), (232, 381), (901, 80), (-819, -657), (-886, -665) ]\n",
        "puntos.sort() #ordena los puntos\n",
        "p,q = puntos[0],puntos[1] #toma los primeros puntos p,q\n",
        "m = dist_2p (puntos[0],puntos[1]) #la primera distancia; se toma inicialmente como la mínima\n",
        "pt1,pt2,distancia = buscar_menor(puntos,p,q,m) #invocar la función recursiva\n",
        "print (distancia)\n",
        "print (pt1)\n",
        "print (pt2)"
      ],
      "metadata": {
        "colab": {
          "base_uri": "https://localhost:8080/"
        },
        "id": "nha3QkKYZ7xQ",
        "outputId": "0cb4b52e-32ec-42da-ac84-2da4310f89f9"
      },
      "execution_count": null,
      "outputs": [
        {
          "output_type": "stream",
          "name": "stdout",
          "text": [
            "5.385164807134504\n",
            "(931, -642)\n",
            "(936, -640)\n"
          ]
        }
      ]
    }
  ]
}